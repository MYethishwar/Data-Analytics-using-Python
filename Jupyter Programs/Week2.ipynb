{
 "cells": [
  {
   "cell_type": "code",
   "execution_count": 9,
   "id": "f2786b6f-4d78-4be1-905b-cbe777128855",
   "metadata": {},
   "outputs": [
    {
     "name": "stdout",
     "output_type": "stream",
     "text": [
      "Hello Jupyter How are you\n"
     ]
    }
   ],
   "source": [
    "print(\"Hello Jupyter How are you\")"
   ]
  },
  {
   "cell_type": "code",
   "execution_count": null,
   "id": "820cebf9-3f89-4d43-a322-eeeb63b736a0",
   "metadata": {},
   "outputs": [],
   "source": []
  },
  {
   "cell_type": "code",
   "execution_count": null,
   "id": "b638fc2c-739d-4cd3-893b-84cdb5cb61cc",
   "metadata": {},
   "outputs": [],
   "source": []
  }
 ],
 "metadata": {
  "kernelspec": {
   "display_name": "Python [conda env:base] *",
   "language": "python",
   "name": "conda-base-py"
  },
  "language_info": {
   "codemirror_mode": {
    "name": "ipython",
    "version": 3
   },
   "file_extension": ".py",
   "mimetype": "text/x-python",
   "name": "python",
   "nbconvert_exporter": "python",
   "pygments_lexer": "ipython3",
   "version": "3.12.7"
  }
 },
 "nbformat": 4,
 "nbformat_minor": 5
}
