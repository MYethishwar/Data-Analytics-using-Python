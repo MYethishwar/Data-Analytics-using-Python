{
 "cells": [
  {
   "cell_type": "code",
   "execution_count": 10,
   "id": "b38fab8b-a08b-4b03-9f82-0cf67b67fd67",
   "metadata": {},
   "outputs": [],
   "source": [
    "import scipy\n",
    "import numpy as np"
   ]
  },
  {
   "cell_type": "code",
   "execution_count": 12,
   "id": "3d1b56f1-63fe-4f76-9c62-6a6ab10036f7",
   "metadata": {},
   "outputs": [],
   "source": [
    "from scipy.stats import binom"
   ]
  },
  {
   "cell_type": "code",
   "execution_count": 13,
   "id": "4334ae24-3bd1-4d04-8fc0-dbe25d621838",
   "metadata": {},
   "outputs": [
    {
     "name": "stdout",
     "output_type": "stream",
     "text": [
      "0.090777998593228\n"
     ]
    }
   ],
   "source": [
    "print(binom.pmf(k=19,n=25,p=0.65))"
   ]
  },
  {
   "cell_type": "code",
   "execution_count": 14,
   "id": "0a395a69-7909-4909-984d-f24ef94f506f",
   "metadata": {},
   "outputs": [
    {
     "data": {
      "text/plain": [
       "0.8850275957378549"
      ]
     },
     "execution_count": 14,
     "metadata": {},
     "output_type": "execute_result"
    }
   ],
   "source": [
    "binom.cdf(2,20,0.06)"
   ]
  },
  {
   "cell_type": "code",
   "execution_count": 17,
   "id": "23803dd4-a6cf-4833-a86a-0d04fb552a6e",
   "metadata": {},
   "outputs": [],
   "source": [
    "from scipy.stats import poisson"
   ]
  },
  {
   "cell_type": "code",
   "execution_count": 20,
   "id": "1b460d5a-baff-4f7e-a09c-c97bd21542a8",
   "metadata": {},
   "outputs": [
    {
     "data": {
      "text/plain": [
       "0.18044704431548356"
      ]
     },
     "execution_count": 20,
     "metadata": {},
     "output_type": "execute_result"
    }
   ],
   "source": [
    "poisson.pmf(3,2)"
   ]
  },
  {
   "cell_type": "code",
   "execution_count": 22,
   "id": "c8504f69-f6ca-40eb-8960-5c3c60802eca",
   "metadata": {},
   "outputs": [
    {
     "data": {
      "text/plain": [
       "0.11397938346351824"
      ]
     },
     "execution_count": 22,
     "metadata": {},
     "output_type": "execute_result"
    }
   ],
   "source": [
    "poisson.pmf(5,3.2)"
   ]
  },
  {
   "cell_type": "code",
   "execution_count": 24,
   "id": "f815a3a8-de3a-486b-acbc-46151ed29645",
   "metadata": {},
   "outputs": [
    {
     "data": {
      "text/plain": [
       "0.9831701582510425"
      ]
     },
     "execution_count": 24,
     "metadata": {},
     "output_type": "execute_result"
    }
   ],
   "source": [
    "poisson.cdf(7,3.2)"
   ]
  },
  {
   "cell_type": "code",
   "execution_count": 28,
   "id": "c9951c3f-0154-4944-8eae-50f6f614bd31",
   "metadata": {},
   "outputs": [
    {
     "data": {
      "text/plain": [
       "array([27, 28, 29, 30, 31, 32, 33, 34, 35, 36, 37, 38, 39])"
      ]
     },
     "execution_count": 28,
     "metadata": {},
     "output_type": "execute_result"
    }
   ],
   "source": [
    "U = np.arange(27,40,1)\n",
    "U"
   ]
  },
  {
   "cell_type": "code",
   "execution_count": 32,
   "id": "8b4812d6-d915-4b1e-b987-7c7719725ba1",
   "metadata": {},
   "outputs": [
    {
     "data": {
      "text/plain": [
       "33.0"
      ]
     },
     "execution_count": 32,
     "metadata": {},
     "output_type": "execute_result"
    }
   ],
   "source": [
    "from scipy.stats import uniform\n",
    "uniform.mean(loc=27, scale=12)"
   ]
  },
  {
   "cell_type": "code",
   "execution_count": 34,
   "id": "bda9afc7-3fd1-40f7-8df4-01fc500b9cd5",
   "metadata": {},
   "outputs": [
    {
     "data": {
      "text/plain": [
       "array([0.25      , 0.33333333, 0.41666667, 0.5       , 0.58333333,\n",
       "       0.66666667])"
      ]
     },
     "execution_count": 34,
     "metadata": {},
     "output_type": "execute_result"
    }
   ],
   "source": [
    "uniform.cdf(np.arange(30,36,1), loc=27, scale=12)"
   ]
  },
  {
   "cell_type": "code",
   "execution_count": 36,
   "id": "e9fab802-5602-4ba0-b1a0-611f79875e86",
   "metadata": {},
   "outputs": [],
   "source": [
    "prob = 0.999999-0.25"
   ]
  },
  {
   "cell_type": "code",
   "execution_count": 38,
   "id": "e3031227-a923-4705-a4fe-2c10d7902904",
   "metadata": {},
   "outputs": [
    {
     "data": {
      "text/plain": [
       "0.749999"
      ]
     },
     "execution_count": 38,
     "metadata": {},
     "output_type": "execute_result"
    }
   ],
   "source": [
    "prob"
   ]
  },
  {
   "cell_type": "code",
   "execution_count": 40,
   "id": "bd33f9c4-d4fa-4bd2-b0da-210a7dbb8c6c",
   "metadata": {},
   "outputs": [
    {
     "data": {
      "text/plain": [
       "691.0"
      ]
     },
     "execution_count": 40,
     "metadata": {},
     "output_type": "execute_result"
    }
   ],
   "source": [
    "uniform.mean(loc=200, scale=982)"
   ]
  },
  {
   "cell_type": "code",
   "execution_count": 42,
   "id": "4e4721a2-80d5-431f-9cb5-3e1d76832680",
   "metadata": {},
   "outputs": [
    {
     "data": {
      "text/plain": [
       "283.4789821721062"
      ]
     },
     "execution_count": 42,
     "metadata": {},
     "output_type": "execute_result"
    }
   ],
   "source": [
    "uniform.std(loc=200,scale=982)"
   ]
  },
  {
   "cell_type": "code",
   "execution_count": 46,
   "id": "0c5faa65-4b98-4595-89f9-4e1600723ba0",
   "metadata": {},
   "outputs": [
    {
     "name": "stdout",
     "output_type": "stream",
     "text": [
      "0.6305586598182363\n"
     ]
    }
   ],
   "source": [
    "from scipy.stats import norm\n",
    "val,m,s = 65,62,9\n",
    "print(norm.cdf(val,m,s))"
   ]
  },
  {
   "cell_type": "code",
   "execution_count": 48,
   "id": "54cdf44e-f22c-41a6-be5c-5bf64f1ee0a0",
   "metadata": {},
   "outputs": [
    {
     "data": {
      "text/plain": [
       "-0.17637416478086135"
      ]
     },
     "execution_count": 48,
     "metadata": {},
     "output_type": "execute_result"
    }
   ],
   "source": [
    "norm.ppf(0.43)"
   ]
  },
  {
   "cell_type": "code",
   "execution_count": 50,
   "id": "2cc0f29f-1e0d-48a1-8e86-ec92f901a1fd",
   "metadata": {},
   "outputs": [],
   "source": [
    "from scipy.stats import hypergeom"
   ]
  },
  {
   "cell_type": "code",
   "execution_count": 52,
   "id": "37a2c90f-eed3-46ce-abd1-2d74f39d845f",
   "metadata": {},
   "outputs": [],
   "source": [
    "pval = hypergeom.sf(0,114,5,6)"
   ]
  },
  {
   "cell_type": "code",
   "execution_count": 54,
   "id": "ed215501-c3cf-48c9-909d-8086681ed6b5",
   "metadata": {},
   "outputs": [
    {
     "data": {
      "text/plain": [
       "0.24069011213864502"
      ]
     },
     "execution_count": 54,
     "metadata": {},
     "output_type": "execute_result"
    }
   ],
   "source": [
    "pval"
   ]
  },
  {
   "cell_type": "code",
   "execution_count": 68,
   "id": "3612eb8a-d628-4d13-b028-12d322ee3e74",
   "metadata": {},
   "outputs": [],
   "source": [
    "pval = hypergeom.cdf(1,31,55,5)"
   ]
  },
  {
   "cell_type": "code",
   "execution_count": 70,
   "id": "2d6189dc-eef8-40b8-a94f-b23df28f5a3d",
   "metadata": {},
   "outputs": [
    {
     "data": {
      "text/plain": [
       "nan"
      ]
     },
     "execution_count": 70,
     "metadata": {},
     "output_type": "execute_result"
    }
   ],
   "source": [
    "pval"
   ]
  },
  {
   "cell_type": "code",
   "execution_count": 72,
   "id": "0cd1d29b-4431-4a07-ac65-c95be5cb8533",
   "metadata": {},
   "outputs": [
    {
     "data": {
      "text/plain": [
       "0.7246376811594204"
      ]
     },
     "execution_count": 72,
     "metadata": {},
     "output_type": "execute_result"
    }
   ],
   "source": [
    "mul = 1/1.38\n",
    "mul"
   ]
  },
  {
   "cell_type": "code",
   "execution_count": 74,
   "id": "e92e8583-de12-498d-b474-5a4f0d7b84d3",
   "metadata": {},
   "outputs": [
    {
     "data": {
      "text/plain": [
       "0.6447736190750485"
      ]
     },
     "execution_count": 74,
     "metadata": {},
     "output_type": "execute_result"
    }
   ],
   "source": [
    "from scipy.stats import expon\n",
    "expon.cdf(0.75,0,(1/1.38))"
   ]
  },
  {
   "cell_type": "code",
   "execution_count": null,
   "id": "e7c7fde8-90ec-41aa-88a9-5d4fe2f39e48",
   "metadata": {},
   "outputs": [],
   "source": []
  }
 ],
 "metadata": {
  "kernelspec": {
   "display_name": "Python [conda env:base] *",
   "language": "python",
   "name": "conda-base-py"
  },
  "language_info": {
   "codemirror_mode": {
    "name": "ipython",
    "version": 3
   },
   "file_extension": ".py",
   "mimetype": "text/x-python",
   "name": "python",
   "nbconvert_exporter": "python",
   "pygments_lexer": "ipython3",
   "version": "3.12.7"
  }
 },
 "nbformat": 4,
 "nbformat_minor": 5
}
